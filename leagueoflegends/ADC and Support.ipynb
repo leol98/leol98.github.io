{
 "cells": [
  {
   "cell_type": "markdown",
   "metadata": {},
   "source": [
    "<img src=\"images/playvs-league.png\" class=\"inline\"/>"
   ]
  },
  {
   "cell_type": "markdown",
   "metadata": {},
   "source": [
    "**<p><center><font size=\"6.5\">Predicting the Chance of Winning in League of Legends</font></center></p>**\n",
    "*<p style=\"color: darkgrey;\"><center>Jiaxuan Wu, Yufei Huang, Geng Liu</center></p>*"
   ]
  },
  {
   "cell_type": "markdown",
   "metadata": {},
   "source": [
    "**<p><font size=\"7\"><font color=\"SkyBlue\">Outline</font></font></p>**\n",
    "<ol>\n",
    "\t<li><font color=\"SkyBlue\"><strong>Getting Started:</strong></font>\n",
    "\t<ol>\n",
    "\t\t<li><font color=\"SkyBlue\">Required Libraries</font></li>\n",
    "\t\t<li><font color=\"SkyBlue\">Dataset Source</font></li>\n",
    "\t\t<li><font color=\"SkyBlue\">Reading Data</font></li>\n",
    "\t\t<li><font color=\"SkyBlue\">Tidying and Modifying Data</font></li>\n",
    "\t</ol>\n",
    "\t</li>\n",
    "\t<li><font color=\"SkyBlue\"><strong>Exploratory Data Analysis:</strong></font></li>\n",
    "    <ol>\n",
    "\t\t<li><font color=\"SkyBlue\">Explore the Frequency of ADC & Support Combo</font></li>\n",
    "\t\t<li><font color=\"SkyBlue\">Dataset Source</font></li>\n",
    "\t\t<li><font color=\"SkyBlue\">Reading Data</font></li>\n",
    "\t\t<li><font color=\"SkyBlue\">Tidying and Modifying Data</font></li>\n",
    "\t</ol>\n",
    "\t</li>\n",
    "\t<li><font color=\"SkyBlue\"><strong>Linear Regression:</strong></font></li>\n",
    "\t<li><font color=\"SkyBlue\"><strong>Predict with Machine Learning:</strong></font></li>\n",
    "\t<li><font color=\"SkyBlue\"><strong>Conclusion:</strong></font></li>\n",
    "</ol>"
   ]
  },
  {
   "cell_type": "markdown",
   "metadata": {},
   "source": [
    "**<p ><center><font size=\"7\"><font color=\"SkyBlue\">Introduction</font></font></center></p>**\n",
    "League of Legends (abbreviated LoL) is a multiplayer online battle arena video game developed and published by Riot Games. The game is available on both Windows and macOS platforms. Released on October 27, 2009,League of Legends has since grown in popularity, with an active and expansive fanbase. In September 2016, the company estimated that there are over 100 million active players each month.\n",
    "\n",
    "<img src=\"images/p480px-Map_of_MOBA.svg.png\" class=\"inline\"/> League of Legends (abbreviated LoL) is a multiplayer online battle arena video game developed and published by Riot Games for Microsoft Windows and macOS. Released on October 27, 2009, League of Legends has since grown in popularity, with an active and expansive fanbase. In September 2016, the company estimated that there are over 100 million active players each month. LoL also has a professional league. The top prize for the best team is over five million dollars and the average player makes a six-figure income.\n",
    "\n",
    "The goal of the game is to defeat the enemy team by destroying its nexus, which lies in the enemy base. There are two teams in each game: the blue team and the red team, which has 5 players each. Each player will select a champion from 142 available champions, each with a unique set of abilities, to play before the game begin. They will then work together to defense against the enemy's attack. The game ends by either one team destroying the enemy team’s nexus, or one team surrenders. \n",
    "\n",
    "The map, which is known as “Summoner’s Rift”, is divided into two sides by a diagonal line, known as the “river”. The blue team’s territory lies under the river, and the red team’s territory is above it. The yellow paths, known as “lanes”, are guarded by defensive structures, known as “turrets”, and automatically created characters known as “minions”. The lanes are called “top”, “middle” and “bottom” lanes in respect of their position on the map. \n",
    "\n",
    "In the early phase of the game, players usually control their champion to guard a lane to level up and gain gold until they are strong enough to fight as a team. In this tutorial, we focus on the two champions guarding the bottom lane, often called “ADC” and “support”. Champions that are fitted for the “ADC” role are ranged champions who can deal high physical damage. But they also tend to have weak defense and low health, thus they are accompanied by another champion, “support”, who can provide healing, shielding, and harass the enemy champion. \n",
    "\n",
    "In this tutorial, we aim to clean the game statistics from all international matches since 2015, then analyze the dataset to gain insight on the relationship between bottom lane champion combination and victories. We want to use hypothesis testing to prove the correlation between two factors, and then use regression analysis to predict wins or loses based on champion combinations. \n"
   ]
  },
  {
   "cell_type": "markdown",
   "metadata": {},
   "source": [
    "**<p><font size=\"6\"><font color=\"SkyBlue\">1. Getting Started</font></font></p>**"
   ]
  },
  {
   "cell_type": "markdown",
   "metadata": {},
   "source": [
    "**<p><font size=\"4.5\"><font color=\"SkyBlue\">A. Required Libraries</font></font></p>**\n",
    "<ul>\n",
    "\t<li style=\"box-sizing: border-box;\">Pandas: for data display and partitioning</li>\n",
    "\t<li style=\"box-sizing: border-box;\">Numpy: for scientific computing with Python</li>\n",
    "\t<li style=\"box-sizing: border-box;\">Matplotlib.pyplot: for plotting Pandas data into various graphs and charts</li>\n",
    "\t<li style=\"box-sizing: border-box;\">Seaborn: for graphics on top of Matplotlib</li>\n",
    "\t<li style=\"box-sizing: border-box;\">scikit-learn: machine learning library\n",
    "\t<ul style=\"box-sizing: border-box; margin: 0em 2em; list-style: square; padding-left: 0px;\">\n",
    "\t\t<li style=\"box-sizing: border-box;\">linear-model:&nbsp;calculate models for multiple linear regression</li>\n",
    "\t\t<li style=\"box-sizing: border-box;\">model_selection: split up dataset into test and training data and evaluate predictions</li>\n",
    "\t</ul>\n",
    "\t</li>\n",
    "\t<li style=\"box-sizing: border-box;\">statsmodels - api:&nbsp;calculate models and statistics with multple linear regression</li>\n",
    "</ul>"
   ]
  },
  {
   "cell_type": "code",
   "execution_count": null,
   "metadata": {},
   "outputs": [],
   "source": [
    "import pandas as pd\n",
    "import numpy as np\n",
    "import matplotlib.pyplot as plt\n",
    "import seaborn as sns"
   ]
  },
  {
   "cell_type": "markdown",
   "metadata": {},
   "source": [
    "**<p><font size=\"4.5\"><font color=\"SkyBlue\">B. Dataset Source</font></font></p>**\n",
    "\n",
    "The dataset we used aggregates basic statistics for every game since 2015 across all the professional leagues other than China. It contains detailed information for all feasible aspects of the performance of each member in a team, such as the number of kills, the time of turret destruction, the amount of golds collected by each champion. In this project we will be concerned with the quantitave statistics of the teams and their ADC & Support combination.\n",
    "\n",
    "The dataset was found on Kaggle. \n",
    "<a href=\"https://www.kaggle.com/chuckephron/leagueoflegends\">https://www.kaggle.com/chuckephron/leagueoflegends</a>"
   ]
  },
  {
   "cell_type": "markdown",
   "metadata": {},
   "source": [
    "**<p><font size=\"4.5\"><font color=\"SkyBlue\">C. Reading Data</font></font></p>**\n",
    "\n",
    "We first load the LeagueofLegends.csv file. We filter rows for international matches, and then drop the columns that we do not need such as \"Leagus\", \"Year\", \"Season\", and \"Type\". Then, we display the first 5 rows to get a sense of data. "
   ]
  },
  {
   "cell_type": "code",
   "execution_count": null,
   "metadata": {},
   "outputs": [],
   "source": [
    "df = pd.read_csv(\"LeagueofLegends.csv\", sep=',')\n",
    "df = df[df['Type'] == 'International']\n",
    "df.drop(['League', 'Year', 'Season', 'Type'],axis=1, inplace=True)\n",
    "df.reset_index(drop=True, inplace=True)\n",
    "df.head()"
   ]
  },
  {
   "cell_type": "markdown",
   "metadata": {},
   "source": [
    "**<p><font size=\"4.5\"><font color=\"SkyBlue\">D. Tidying and Modifying Data</font></font></p>**\n",
    "\n",
    "To better explore the data, convert all strings to intergers, lists, or what the type the columns need."
   ]
  },
  {
   "cell_type": "code",
   "execution_count": null,
   "metadata": {},
   "outputs": [],
   "source": [
    "# Convert String into lists in the table\n",
    "from ast import literal_eval\n",
    "df['goldblue'] = df['goldblue'].apply(literal_eval)\n",
    "df['bKills'] = df['bKills'].apply(literal_eval)\n",
    "df['bTowers'] = df['bTowers'].apply(literal_eval)\n",
    "df['bInhibs'] = df['bInhibs'].apply(literal_eval)\n",
    "df['bDragons'] = df['bDragons'].apply(literal_eval)\n",
    "df['bBarons'] = df['bBarons'].apply(literal_eval)\n",
    "df['bHeralds'] = df['bHeralds'].apply(literal_eval)\n",
    "\n",
    "df['goldred'] = df['goldred'].apply(literal_eval)\n",
    "df['rKills'] = df['rKills'].apply(literal_eval)\n",
    "df['rTowers'] = df['rTowers'].apply(literal_eval)\n",
    "df['rInhibs'] = df['rInhibs'].apply(literal_eval)\n",
    "df['rDragons'] = df['rDragons'].apply(literal_eval)\n",
    "df['rBarons'] = df['rBarons'].apply(literal_eval)\n",
    "df['rHeralds'] = df['rHeralds'].apply(literal_eval)\n",
    "\n",
    "df['goldblueTop'] = df['goldblueTop'].apply(literal_eval)\n",
    "df['goldblueJungle'] = df['goldblueJungle'].apply(literal_eval)\n",
    "df['goldblueMiddle'] = df['goldblueMiddle'].apply(literal_eval)\n",
    "df['goldblueADC'] = df['goldblueADC'].apply(literal_eval)\n",
    "df['goldblueSupport'] = df['goldblueSupport'].apply(literal_eval)\n",
    "\n",
    "df['goldredTop'] = df['goldredTop'].apply(literal_eval)\n",
    "df['goldredJungle'] = df['goldredJungle'].apply(literal_eval)\n",
    "df['goldredMiddle'] = df['goldredMiddle'].apply(literal_eval)\n",
    "df['goldredADC'] = df['goldredADC'].apply(literal_eval)\n",
    "df['goldredSupport'] = df['goldredSupport'].apply(literal_eval)"
   ]
  },
  {
   "cell_type": "markdown",
   "metadata": {},
   "source": [
    "To better understand the data, re-format player name to \"team-name player-name\""
   ]
  },
  {
   "cell_type": "code",
   "execution_count": null,
   "metadata": {},
   "outputs": [],
   "source": [
    "df['redTop'] = df['redTeamTag'] + ' ' + df['redTop']\n",
    "df['redJungle'] = df['redTeamTag'] + ' ' + df['redJungle']\n",
    "df['redMiddle'] = df['redTeamTag'] + ' ' + df['redMiddle']\n",
    "df['redADC'] = df['redTeamTag'] + ' ' + df['redADC']\n",
    "df['redSupport'] = df['redTeamTag'] + ' ' + df['redSupport']\n",
    "\n",
    "df['blueTop'] = df['blueTeamTag'] + ' ' + df['blueTop']\n",
    "df['blueJungle'] = df['blueTeamTag'] + ' ' + df['blueJungle']\n",
    "df['blueMiddle'] = df['blueTeamTag'] + ' ' + df['blueMiddle']\n",
    "df['blueADC'] = df['blueTeamTag'] + ' ' + df['blueADC']\n",
    "df['blueSupport'] = df['blueTeamTag'] + ' ' + df['blueSupport']"
   ]
  },
  {
   "cell_type": "markdown",
   "metadata": {},
   "source": [
    "Since we need the statistics of each team, we ignore teams' different tags (red or blue). We will only emphasize the information of each team.\n",
    "\n",
    "Isolate the red team and blue team separately. Then, rename the columns without team tags. After that, with the same columns name, we can merge two dataframe into one. Now, we have the information of all teams in one table."
   ]
  },
  {
   "cell_type": "code",
   "execution_count": null,
   "metadata": {},
   "outputs": [],
   "source": [
    "df_red = df.copy(deep=True)\n",
    "df_blue = df.copy(deep=True)\n",
    "df_red.drop(columns = ['blueTeamTag', 'bResult', 'goldblue', 'bKills', 'bTowers', 'bInhibs', 'bDragons',\\\n",
    "                       'bBarons', 'bHeralds', 'blueTop', 'blueTopChamp', 'goldblueTop', \\\n",
    "                       'blueJungle', 'blueJungleChamp', 'goldblueJungle', 'blueMiddle', \\\n",
    "                       'blueMiddleChamp', 'goldblueMiddle', 'blueADC', 'blueADCChamp', 'goldblueADC', \\\n",
    "                       'blueSupport', 'blueSupportChamp', 'goldblueSupport', 'blueBans'], inplace=True)\n",
    "df_blue.drop(columns = ['redTeamTag', 'rResult', 'goldred', 'rKills', 'rTowers', 'rInhibs', 'rDragons',\\\n",
    "                       'rBarons', 'rHeralds', 'redTop', 'redTopChamp', 'goldredTop', \\\n",
    "                       'redJungle', 'redJungleChamp', 'goldredJungle', 'redMiddle', \\\n",
    "                       'redMiddleChamp', 'goldredMiddle', 'redADC', 'redADCChamp', 'goldredADC', \\\n",
    "                       'redSupport', 'redSupportChamp', 'goldredSupport', 'redBans'], inplace=True)\n",
    "\n",
    "df_red.rename({'redTeamTag': 'teamTag',\\\n",
    "               'rResult': 'result',\\\n",
    "               'goldred': 'gold',\\\n",
    "               'rKills': 'kills',\\\n",
    "               'rTowers': 'towers',\\\n",
    "               'rInhibs': 'inhibs',\\\n",
    "               'rDragons': 'dragons',\\\n",
    "               'rBarons': 'barons',\\\n",
    "               'rHeralds': 'heralds',\\\n",
    "               'redTop': 'top', \\\n",
    "               'redTopChamp': 'topChamp',\\\n",
    "               'goldredTop': 'goldTop',\\\n",
    "               'redJungle': 'jungle',\\\n",
    "               'redJungleChamp': 'jungleChamp',\\\n",
    "               'goldredJungle': 'goldJungle',\\\n",
    "               'redMiddle': 'middle', \\\n",
    "               'redMiddleChamp': 'middleChamp',\\\n",
    "               'goldredMiddle': 'goldMiddle',\\\n",
    "               'redADC': 'ADC',\\\n",
    "               'redADCChamp': 'ADCChamp',\\\n",
    "               'goldredADC': 'goldADC', \\\n",
    "               'redSupport': 'support',\\\n",
    "               'redSupportChamp': 'supportChamp',\\\n",
    "               'goldredSupport': 'goldSupport',\\\n",
    "               'redBans': 'bans'}, inplace=True, axis='columns')\n",
    "\n",
    "df_blue.rename({'blueTeamTag': 'teamTag',\\\n",
    "               'bResult': 'result',\\\n",
    "               'goldblue': 'gold',\\\n",
    "               'bKills': 'kills',\\\n",
    "               'bTowers': 'towers',\\\n",
    "               'bInhibs': 'inhibs',\\\n",
    "               'bDragons': 'dragons',\\\n",
    "               'bBarons': 'barons',\\\n",
    "               'bHeralds': 'heralds',\\\n",
    "               'blueTop': 'top', \\\n",
    "               'blueTopChamp': 'topChamp',\\\n",
    "               'goldblueTop': 'goldTop',\\\n",
    "               'blueJungle': 'jungle',\\\n",
    "               'blueJungleChamp': 'jungleChamp',\\\n",
    "               'goldblueJungle': 'goldJungle',\\\n",
    "               'blueMiddle': 'middle', \\\n",
    "               'blueMiddleChamp': 'middleChamp',\\\n",
    "               'goldblueMiddle': 'goldMiddle',\\\n",
    "               'blueADC': 'ADC',\\\n",
    "               'blueADCChamp': 'ADCChamp',\\\n",
    "               'goldblueADC': 'goldADC', \\\n",
    "               'blueSupport': 'support',\\\n",
    "               'blueSupportChamp': 'supportChamp',\\\n",
    "               'goldblueSupport': 'goldSupport',\\\n",
    "               'blueBans': 'bans'}, inplace=True, axis='columns')\n",
    "\n",
    "df_all = pd.concat([df_red, df_blue], sort = False).reset_index()\n",
    "df_all"
   ]
  },
  {
   "cell_type": "markdown",
   "metadata": {},
   "source": [
    "**<p><font size=\"6\"><font color=\"SkyBlue\">2. Exploratory Data Analysis</font></font></p>**"
   ]
  },
  {
   "cell_type": "markdown",
   "metadata": {},
   "source": [
    "**<p><font size=\"4.5\"><font color=\"SkyBlue\">A. Explore the Frequency of ADC & Support Combo</font></font></p>**\n",
    "\n",
    "To find the frequency of all possible ADC & Support combos that every team used, we will need a list of all combos, and a list of how many teams are listed at each.\n",
    "\n",
    "First, we will use Pandas groupby() to combine all the rows with the same combo."
   ]
  },
  {
   "cell_type": "code",
   "execution_count": null,
   "metadata": {
    "scrolled": false
   },
   "outputs": [],
   "source": [
    "df_combo = df_all.groupby(['ADCChamp', 'supportChamp']).agg({'result' :  'sum',\n",
    "                                                             'ADC' : 'count',}).reset_index()\n",
    "combo_size = df_all.shape[0]\n",
    "df_combo.rename({'ADC':'frequency'}, inplace=True, axis='columns')\n",
    "df_combo['winRatio'] = df_combo['result'] / df_combo['frequency']\n",
    "df_combo['frequency'].unique()"
   ]
  },
  {
   "cell_type": "code",
   "execution_count": null,
   "metadata": {},
   "outputs": [],
   "source": [
    "df_combo['combo'] = df_combo['ADCChamp'] + ', ' + df_combo['supportChamp']\n",
    "df_combo.sort_values(by='frequency', inplace=True, ascending=False)\n",
    "df_combo_top = df_combo.head(20)\n",
    "type(df_combo_top)\n",
    "\n",
    "f, ax = plt.subplots(figsize=(12,9))\n",
    "freq_map = sns.barplot(x='combo', y='frequency', data=df_combo_top )\n",
    "freq_map.set_xticklabels(freq_map.get_xticklabels(),rotation=90)\n",
    "plt.show()"
   ]
  },
  {
   "cell_type": "code",
   "execution_count": null,
   "metadata": {},
   "outputs": [],
   "source": [
    "df_combo['winOverall'] = df_combo['result']/combo_size\n",
    "df_combo['frequenceOverall'] = df_combo['frequency']/combo_size\n",
    "\n",
    "f, ax = plt.subplots(figsize=(15,12))\n",
    "combo_win = sns.scatterplot(x='frequency', y='winRatio', data=df_combo, alpha=0.2, s=200, palette=sns.color_palette(\"RdBu\", n_colors=7), ax=ax)\n",
    "\n",
    "\n",
    "for i, r in df_combo.iterrows():\n",
    "    if (r['frequency'] > 15):\n",
    "        ax.text(r['frequency'] + 0.02, r['winRatio'], r['combo'])\n",
    "plt.plot([0, 35], [0.5, 0.5], linewidth=2)\n",
    "plt.show()"
   ]
  },
  {
   "cell_type": "code",
   "execution_count": null,
   "metadata": {},
   "outputs": [],
   "source": [
    "cmap = sns.diverging_palette(220,10, as_cmap=True)\n",
    "\n",
    "pivot = df_combo.pivot(index='supportChamp', columns='ADCChamp', values='winRatio')\n",
    "f, ax = plt.subplots(figsize=(18,15))\n",
    "combo_win = sns.heatmap(pivot, cmap=sns.cubehelix_palette(8), square=True, linewidths=0.5, ax=ax, annot=True)\n",
    "plt.show()"
   ]
  },
  {
   "cell_type": "code",
   "execution_count": null,
   "metadata": {},
   "outputs": [],
   "source": [
    "cmap = sns.diverging_palette(220,10, as_cmap=True)\n",
    "\n",
    "pivot = df_combo.pivot(index='supportChamp', columns='ADCChamp', values='frequency')\n",
    "f, ax = plt.subplots(figsize=(18,15))\n",
    "combo_win = sns.heatmap(pivot, cmap=sns.cubehelix_palette(8), square=True, linewidths=0.5, ax=ax, annot=True)\n",
    "plt.show()"
   ]
  },
  {
   "cell_type": "markdown",
   "metadata": {},
   "source": [
    "#### ADC and Support Combo and Gold"
   ]
  },
  {
   "cell_type": "code",
   "execution_count": null,
   "metadata": {},
   "outputs": [],
   "source": [
    "df_gold = df_all.copy(deep=True)\n",
    "df_gold = df_gold[['result','ADCChamp', 'goldADC', 'supportChamp', 'goldSupport']]\n",
    "\n",
    "df_gold.loc[0]"
   ]
  },
  {
   "cell_type": "code",
   "execution_count": null,
   "metadata": {},
   "outputs": [],
   "source": [
    "df_gold['goldBot'] = np.empty((len(df_gold), 0)).tolist()\n",
    "df_gold['combo'] = df_gold['ADCChamp'] + ', ' + df_gold['supportChamp']\n",
    "for i, r in df_gold.iterrows():\n",
    "    lst = [sum(pair) for pair in zip(r['goldADC'], r['goldSupport'])]\n",
    "    df_gold.at[i, 'goldBot'] = lst\n",
    "    df_gold.at[i, 'goldBotPerMin'] = sum(lst)/len(lst)\n"
   ]
  },
  {
   "cell_type": "code",
   "execution_count": null,
   "metadata": {},
   "outputs": [],
   "source": [
    "df_gold"
   ]
  },
  {
   "cell_type": "code",
   "execution_count": null,
   "metadata": {},
   "outputs": [],
   "source": [
    "f,ax = plt.subplots(figsize=(18,15))\n",
    "adc_gold_per_min = sns.boxplot(x='ADCChamp', y='goldBotPerMin', data=df_gold, ax=ax, boxprops=dict(alpha=0.1))\n",
    "adc_gold_per_min = sns.stripplot(x='ADCChamp', y='goldBotPerMin', data=df_gold, ax=ax)\n",
    "for label in ax.get_xticklabels():\n",
    "    label.set_rotation(90)\n",
    "\n",
    "plt.show()"
   ]
  },
  {
   "cell_type": "code",
   "execution_count": null,
   "metadata": {
    "scrolled": true
   },
   "outputs": [],
   "source": [
    "df_combo.loc[df_combo['combo'] == \"Kalista, Thresh\"].iloc[0]['frequency']"
   ]
  },
  {
   "cell_type": "code",
   "execution_count": null,
   "metadata": {},
   "outputs": [],
   "source": [
    "for i, r in df_gold.iterrows():\n",
    "    df_gold.at[i, 'goldBot5'] = r['goldBot'][4] if len(r['goldBot']) > 4 else np.nan \n",
    "    df_gold.at[i, 'goldBot10'] = r['goldBot'][9] if len(r['goldBot']) > 9 else np.nan \n",
    "    df_gold.at[i, 'goldBot15'] = r['goldBot'][14] if len(r['goldBot']) > 14 else np.nan \n",
    "    df_gold.at[i, 'goldBot20'] = r['goldBot'][19] if len(r['goldBot']) > 19 else np.nan\n",
    "    df_gold.at[i, 'goldBot25'] = r['goldBot'][24] if len(r['goldBot']) > 24 else np.nan \n",
    "    df_gold.at[i, 'goldBot30'] = r['goldBot'][29] if len(r['goldBot']) > 29 else np.nan \n",
    "    df_gold.at[i, 'goldBot35'] = r['goldBot'][34] if len(r['goldBot']) > 34 else np.nan \n",
    "    df_gold.at[i, 'goldBot40'] = r['goldBot'][39] if len(r['goldBot']) > 39 else np.nan \n",
    "\n",
    "    df_gold.at[i, 'frequency'] = df_combo.loc[df_combo['combo'] == r['combo']].iloc[0]['frequency']\n",
    "    \n",
    "df_gold.sort_values(by='frequency', ascending=False, inplace=True)\n",
    "df_gold"
   ]
  },
  {
   "cell_type": "code",
   "execution_count": null,
   "metadata": {},
   "outputs": [],
   "source": [
    "f,axes = plt.subplots(nrows = 8, ncols = 1, figsize=(18,74))\n",
    "f.subplots_adjust(hspace = 0.5)\n",
    "i = 1\n",
    "for ax in axes:\n",
    "    adc_gold_per_min = sns.boxplot(x='combo', y=('goldBot' + str(i*5)), data=df_gold[df_gold['frequency'] > 10], ax=ax, boxprops=dict(alpha=0.1))\n",
    "    adc_gold_per_min = sns.stripplot(x='combo', y=('goldBot' + str(i*5)), data=df_gold[df_gold['frequency'] > 10], ax=ax, hue='result')\n",
    "    ax.set_title(\"Gold of bottom lane at \" + str(i*5) + \" minutes\")\n",
    "    for label in ax.get_xticklabels():\n",
    "        label.set_rotation(90)\n",
    "    i += 1\n",
    "\n",
    "\n",
    "plt.show()"
   ]
  },
  {
   "cell_type": "code",
   "execution_count": null,
   "metadata": {},
   "outputs": [],
   "source": []
  }
 ],
 "metadata": {
  "kernelspec": {
   "display_name": "Python 3",
   "language": "python",
   "name": "python3"
  },
  "language_info": {
   "codemirror_mode": {
    "name": "ipython",
    "version": 3
   },
   "file_extension": ".py",
   "mimetype": "text/x-python",
   "name": "python",
   "nbconvert_exporter": "python",
   "pygments_lexer": "ipython3",
   "version": "3.6.3"
  }
 },
 "nbformat": 4,
 "nbformat_minor": 2
}
